{
 "cells": [
  {
   "cell_type": "code",
   "execution_count": null,
   "id": "5ff23206-a97c-483a-9a5a-6e7ffe219b90",
   "metadata": {},
   "outputs": [],
   "source": [
    "#"
   ]
  },
  {
   "cell_type": "code",
   "execution_count": 1,
   "id": "e7893114-cbd4-46ea-bfae-fa4bd6cc27ba",
   "metadata": {},
   "outputs": [
    {
     "name": "stdin",
     "output_type": "stream",
     "text": [
      "enter the amount: 400\n"
     ]
    },
    {
     "name": "stdout",
     "output_type": "stream",
     "text": [
      "allowed to withdraw\n"
     ]
    }
   ],
   "source": [
    "#Atm withdrawl validation\n",
    "a=int(input('enter the amount:'))\n",
    "if (a<=5000 and a%100==0):\n",
    "    print('allowed to withdraw')\n",
    "else:\n",
    "    print('insufficient balance')\n",
    "    "
   ]
  },
  {
   "cell_type": "code",
   "execution_count": 2,
   "id": "fd6f298d-68d7-4080-91d9-16679a1987e8",
   "metadata": {},
   "outputs": [
    {
     "name": "stdin",
     "output_type": "stream",
     "text": [
      "enter the color red\n"
     ]
    },
    {
     "name": "stdout",
     "output_type": "stream",
     "text": [
      "stop immediately\n"
     ]
    }
   ],
   "source": [
    "#traffic signal decis\n",
    "a=input('enter the color')\n",
    "if(a=='red'):\n",
    "    print('stop immediately')\n",
    "elif(a=='yellow'):\n",
    "    print('get ready to move')\n",
    "else:\n",
    "    print('you can go')\n"
   ]
  },
  {
   "cell_type": "code",
   "execution_count": 3,
   "id": "b6ea706f-dc2b-4ad8-a995-841ba795e1ad",
   "metadata": {},
   "outputs": [
    {
     "name": "stdin",
     "output_type": "stream",
     "text": [
      "enter the age 18\n"
     ]
    },
    {
     "name": "stdout",
     "output_type": "stream",
     "text": [
      "price will be 300/-)\n"
     ]
    }
   ],
   "source": [
    "x=int(input('enter the age'))\n",
    "if(x<=12):\n",
    "    print('price will be 150/-')\n",
    "elif(x>12 and x<18):\n",
    "    print('ticket price will be 200/-')\n",
    "elif(x>=18):\n",
    "    print('price will be 300/-)') "
   ]
  },
  {
   "cell_type": "code",
   "execution_count": 6,
   "id": "c6f6b087-f094-4391-9e4e-8917770e4dbe",
   "metadata": {},
   "outputs": [
    {
     "name": "stdin",
     "output_type": "stream",
     "text": [
      "enter the hours he worked 9\n"
     ]
    },
    {
     "name": "stdout",
     "output_type": "stream",
     "text": [
      "He got a 100/- per extra hour\n"
     ]
    }
   ],
   "source": [
    "h=int(input('enter the hours he worked'))\n",
    "if (h>8):\n",
    "    print('He got a 100/- per extra hour');\n",
    "else:\n",
    "    print('no overtime pay')"
   ]
  },
  {
   "cell_type": "code",
   "execution_count": 11,
   "id": "f194e2e2-985e-48d2-8494-de985ba3bf97",
   "metadata": {},
   "outputs": [
    {
     "name": "stdin",
     "output_type": "stream",
     "text": [
      "enter the bill amount: 678\n"
     ]
    },
    {
     "name": "stdout",
     "output_type": "stream",
     "text": [
      "they got a 5% discount 33.9\n"
     ]
    }
   ],
   "source": [
    "#restaurant discount system\n",
    "bill=int(input('enter the bill amount:'))\n",
    "if (bill>1000):\n",
    "    print(' they got a 10% discount',bill*10/100)\n",
    "elif(bill>500):\n",
    "    print('they got a 5% discount',bill*5/100)\n",
    "elif(bill<=500):\n",
    "    print('no discount')"
   ]
  },
  {
   "cell_type": "code",
   "execution_count": 13,
   "id": "c147ee20-cb53-4420-96fd-14c7fd9968e6",
   "metadata": {},
   "outputs": [
    {
     "name": "stdin",
     "output_type": "stream",
     "text": [
      "enter the hours he drank before 4\n"
     ]
    },
    {
     "name": "stdout",
     "output_type": "stream",
     "text": [
      "you are dehyrated! Drink water now!\n"
     ]
    }
   ],
   "source": [
    "w=int(input('enter the hours he drank before'))\n",
    "if(w>=4):\n",
    "    print('you are dehyrated! Drink water now!')\n",
    "elif(w>=2 and w<=3):\n",
    "    print('Drink a glass of water')\n",
    "elif(w<2):\n",
    "    print('you are fine')"
   ]
  },
  {
   "cell_type": "code",
   "execution_count": 16,
   "id": "dad412a5-20d3-4d31-b0b0-2d4bbabf80e1",
   "metadata": {},
   "outputs": [
    {
     "name": "stdout",
     "output_type": "stream",
     "text": [
      "[10, 20, 30, 40, 50] <class 'list'>\n",
      "(10, 20, 30, 40, 50) <class 'tuple'>\n",
      "{50, 20, 40, 10, 30} <class 'set'>\n"
     ]
    }
   ],
   "source": [
    "#data structure\n",
    "List=[10,20,30,40,50]\n",
    "print(List,type(List))\n",
    "Tuple=(10,20,30,40,50)\n",
    "print(Tuple,type(Tuple))\n",
    "Set={10,20,30,40,50}\n",
    "print(Set,type(Set))"
   ]
  },
  {
   "cell_type": "code",
   "execution_count": 2,
   "id": "79f25716-29c3-4a84-8fe1-596b846a0935",
   "metadata": {},
   "outputs": [
    {
     "name": "stdout",
     "output_type": "stream",
     "text": [
      "[10, 20, 300, 40]\n"
     ]
    }
   ],
   "source": [
    "List=[10,20,30,40,50]\n",
    "List[2]=300\n",
    "del (List[4])\n",
    "print (List)"
   ]
  },
  {
   "cell_type": "code",
   "execution_count": 19,
   "id": "29ffba83-8537-44b7-bc12-2fdc237ef907",
   "metadata": {},
   "outputs": [
    {
     "name": "stdout",
     "output_type": "stream",
     "text": [
      "range(0, 10)\n",
      "<class 'range'>\n"
     ]
    }
   ],
   "source": [
    "# for loop\n",
    "R1=range(10)\n",
    "print(R1)\n",
    "print(type(R1))"
   ]
  },
  {
   "cell_type": "code",
   "execution_count": 21,
   "id": "6cc13d00-2122-432c-a110-c67879bf1fa8",
   "metadata": {},
   "outputs": [
    {
     "name": "stdout",
     "output_type": "stream",
     "text": [
      "0\n",
      "1\n",
      "2\n",
      "3\n",
      "4\n",
      "5\n",
      "6\n",
      "7\n",
      "8\n",
      "9\n"
     ]
    }
   ],
   "source": [
    "for i in range(10):\n",
    "    print(i)"
   ]
  },
  {
   "cell_type": "code",
   "execution_count": 22,
   "id": "be3d329d-4ca9-47be-ad77-eab84012523b",
   "metadata": {},
   "outputs": [
    {
     "name": "stdout",
     "output_type": "stream",
     "text": [
      "10\n",
      "11\n",
      "12\n",
      "13\n",
      "14\n",
      "15\n",
      "16\n",
      "17\n",
      "18\n",
      "19\n"
     ]
    }
   ],
   "source": [
    "for i in range(10,20):\n",
    "    print(i)\n",
    "    "
   ]
  },
  {
   "cell_type": "code",
   "execution_count": 23,
   "id": "5680e711-74ab-41e0-8d3e-4d01f449bac7",
   "metadata": {},
   "outputs": [
    {
     "name": "stdout",
     "output_type": "stream",
     "text": [
      "2\n",
      "4\n",
      "6\n",
      "8\n",
      "10\n"
     ]
    }
   ],
   "source": [
    "for i in range(2,11,2):\n",
    "    print(i)"
   ]
  },
  {
   "cell_type": "code",
   "execution_count": 25,
   "id": "0baeecb8-4d10-4200-95f3-617e3363ec8c",
   "metadata": {},
   "outputs": [
    {
     "name": "stdin",
     "output_type": "stream",
     "text": [
      "enter the number: 20\n"
     ]
    },
    {
     "name": "stdout",
     "output_type": "stream",
     "text": [
      "1\n",
      "2\n",
      "3\n",
      "4\n",
      "5\n",
      "6\n",
      "7\n",
      "8\n",
      "9\n",
      "10\n",
      "11\n",
      "12\n",
      "13\n",
      "14\n",
      "15\n",
      "16\n",
      "17\n",
      "18\n",
      "19\n",
      "20\n"
     ]
    }
   ],
   "source": [
    "#firsst one\n",
    "n=int(input('enter the number:'))\n",
    "for i in range(1,n+1):\n",
    "    print(i)"
   ]
  },
  {
   "cell_type": "code",
   "execution_count": 26,
   "id": "4158fbc6-7cdf-492e-b4fc-cf168ee57ab7",
   "metadata": {},
   "outputs": [
    {
     "name": "stdin",
     "output_type": "stream",
     "text": [
      "enter the number: 10\n"
     ]
    },
    {
     "name": "stdout",
     "output_type": "stream",
     "text": [
      "10\n",
      "9\n",
      "8\n",
      "7\n",
      "6\n",
      "5\n",
      "4\n",
      "3\n",
      "2\n",
      "1\n"
     ]
    }
   ],
   "source": [
    "#reverse one\n",
    "n=int(input('enter the number:'))\n",
    "for i in range(n,0,-1):\n",
    "    print(i)"
   ]
  },
  {
   "cell_type": "code",
   "execution_count": 27,
   "id": "e1c24ad9-28b8-48de-bb58-02dd0519f033",
   "metadata": {},
   "outputs": [
    {
     "name": "stdin",
     "output_type": "stream",
     "text": [
      "enter the number: 11\n"
     ]
    },
    {
     "name": "stdout",
     "output_type": "stream",
     "text": [
      "2\n",
      "4\n",
      "6\n",
      "8\n",
      "10\n"
     ]
    }
   ],
   "source": [
    "#even number\n",
    "n=int(input('enter the number:'))\n",
    "for i in range(2,n+1,2):\n",
    "    print(i)"
   ]
  },
  {
   "cell_type": "code",
   "execution_count": 29,
   "id": "5197f156-8f71-4155-a275-549ae34bff66",
   "metadata": {},
   "outputs": [
    {
     "name": "stdin",
     "output_type": "stream",
     "text": [
      "enter the number: 10\n"
     ]
    },
    {
     "name": "stdout",
     "output_type": "stream",
     "text": [
      "10\n",
      "8\n",
      "6\n",
      "4\n",
      "2\n"
     ]
    }
   ],
   "source": [
    "n=int(input('enter the number:'))\n",
    "for i in range(n,0,-2):\n",
    "    print(i)"
   ]
  },
  {
   "cell_type": "code",
   "execution_count": 30,
   "id": "8b42d96c-79bf-4b2d-b9fd-b1be97d00fd0",
   "metadata": {},
   "outputs": [
    {
     "name": "stdin",
     "output_type": "stream",
     "text": [
      "enter the number: 15\n"
     ]
    },
    {
     "name": "stdout",
     "output_type": "stream",
     "text": [
      "1\n",
      "3\n",
      "5\n",
      "7\n",
      "9\n",
      "11\n",
      "13\n",
      "15\n"
     ]
    }
   ],
   "source": [
    "n=int(input('enter the number:'))\n",
    "for i in range(1,n+1,2):\n",
    "    print(i)"
   ]
  },
  {
   "cell_type": "code",
   "execution_count": 2,
   "id": "9a2fb566-a360-4fe2-a5af-02035b0c01ca",
   "metadata": {},
   "outputs": [
    {
     "name": "stdin",
     "output_type": "stream",
     "text": [
      "enter the number: 20\n"
     ]
    },
    {
     "name": "stdout",
     "output_type": "stream",
     "text": [
      "19\n",
      "17\n",
      "15\n",
      "13\n",
      "11\n",
      "9\n",
      "7\n",
      "5\n",
      "3\n",
      "1\n"
     ]
    }
   ],
   "source": [
    "n=int(input('enter the number:'))\n",
    "for i in range(n,0,-1):\n",
    "    if(i%2!=0):\n",
    "        print(i)"
   ]
  },
  {
   "cell_type": "code",
   "execution_count": 3,
   "id": "ee419da4-05c0-40fc-9526-411b1864d348",
   "metadata": {},
   "outputs": [
    {
     "name": "stdin",
     "output_type": "stream",
     "text": [
      "enter the number: 0\n"
     ]
    },
    {
     "name": "stdout",
     "output_type": "stream",
     "text": [
      "0\n",
      "2\n",
      "4\n",
      "6\n",
      "8\n",
      "10\n",
      "12\n",
      "14\n",
      "16\n",
      "18\n"
     ]
    }
   ],
   "source": [
    "n=int(input('enter the number:'))\n",
    "for i in range(n,20,2):\n",
    "    if(i%2==0):\n",
    "        print(i)"
   ]
  },
  {
   "cell_type": "code",
   "execution_count": 32,
   "id": "e9c0e346-604f-49d9-ba74-7dac1eadb06e",
   "metadata": {},
   "outputs": [
    {
     "name": "stdin",
     "output_type": "stream",
     "text": [
      "enter the number: 5\n"
     ]
    },
    {
     "name": "stdout",
     "output_type": "stream",
     "text": [
      "5 x 1 = 5\n",
      "5 x 2 = 10\n",
      "5 x 3 = 15\n",
      "5 x 4 = 20\n",
      "5 x 5 = 25\n",
      "5 x 6 = 30\n",
      "5 x 7 = 35\n",
      "5 x 8 = 40\n",
      "5 x 9 = 45\n",
      "5 x 10 = 50\n"
     ]
    }
   ],
   "source": [
    "n=int(input('enter the number:'))\n",
    "for i in range(1,11):\n",
    "    print(f\"{n} x {i} = {n*i}\")"
   ]
  },
  {
   "cell_type": "code",
   "execution_count": 4,
   "id": "e6817cb4-287f-4bc8-aa21-0720cf73d792",
   "metadata": {},
   "outputs": [
    {
     "name": "stdin",
     "output_type": "stream",
     "text": [
      "enter the number: 5\n"
     ]
    },
    {
     "name": "stdout",
     "output_type": "stream",
     "text": [
      "5 x 10 = 50\n",
      "5 x 9 = 45\n",
      "5 x 8 = 40\n",
      "5 x 7 = 35\n",
      "5 x 6 = 30\n",
      "5 x 5 = 25\n",
      "5 x 4 = 20\n",
      "5 x 3 = 15\n",
      "5 x 2 = 10\n",
      "5 x 1 = 5\n"
     ]
    }
   ],
   "source": [
    "n=int(input('enter the number:'))\n",
    "for i in range(10,0,-1):\n",
    "    print(f\"{n} x {i} = {n*i}\")"
   ]
  },
  {
   "cell_type": "code",
   "execution_count": 6,
   "id": "3571e06f-b919-47d2-bb3f-be47473c42ad",
   "metadata": {},
   "outputs": [
    {
     "name": "stdin",
     "output_type": "stream",
     "text": [
      "enter the number: 5\n"
     ]
    },
    {
     "name": "stdout",
     "output_type": "stream",
     "text": [
      "5 X 10 = 50\n",
      "5 X 9 = 45\n",
      "5 X 8 = 40\n",
      "5 X 7 = 35\n",
      "5 X 6 = 30\n",
      "5 X 5 = 25\n",
      "5 X 4 = 20\n",
      "5 X 3 = 15\n",
      "5 X 2 = 10\n",
      "5 X 1 = 5\n"
     ]
    }
   ],
   "source": [
    "n=int(input('enter the number:'))\n",
    "for i in range(10,0,-1):\n",
    "    print(n ,'X',i,'=', n*i)\n"
   ]
  },
  {
   "cell_type": "code",
   "execution_count": null,
   "id": "fb0dea7c-436c-41c4-8788-2fc40e9a8e32",
   "metadata": {},
   "outputs": [],
   "source": []
  }
 ],
 "metadata": {
  "kernelspec": {
   "display_name": "Python 3 (ipykernel)",
   "language": "python",
   "name": "python3"
  },
  "language_info": {
   "codemirror_mode": {
    "name": "ipython",
    "version": 3
   },
   "file_extension": ".py",
   "mimetype": "text/x-python",
   "name": "python",
   "nbconvert_exporter": "python",
   "pygments_lexer": "ipython3",
   "version": "3.13.5"
  }
 },
 "nbformat": 4,
 "nbformat_minor": 5
}
