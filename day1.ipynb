{
 "cells": [
  {
   "cell_type": "markdown",
   "id": "cb5bed00-d250-4066-a950-1b29751db3dd",
   "metadata": {},
   "source": [
    "BASIC CODES"
   ]
  },
  {
   "cell_type": "code",
   "execution_count": 1,
   "id": "6367e3ad-d88d-45b4-9de8-b5e44061d3c5",
   "metadata": {},
   "outputs": [
    {
     "name": "stdin",
     "output_type": "stream",
     "text": [
      "enter the first number 5\n",
      "enter the second number 5\n"
     ]
    },
    {
     "name": "stdout",
     "output_type": "stream",
     "text": [
      "sumation 10\n"
     ]
    }
   ],
   "source": [
    "num1=int(input('enter the first number'))\n",
    "num2=int(input('enter the second number'))\n",
    "print('sumation',num1+num2)"
   ]
  },
  {
   "cell_type": "code",
   "execution_count": 1,
   "id": "88dca90f-1266-4f43-afab-b31c14c51981",
   "metadata": {},
   "outputs": [
    {
     "name": "stdin",
     "output_type": "stream",
     "text": [
      "enter the number: 5\n"
     ]
    },
    {
     "name": "stdout",
     "output_type": "stream",
     "text": [
      "it is a digit\n",
      "digit\n"
     ]
    }
   ],
   "source": [
    "num=int(input('enter the number:'))\n",
    "if (num>=-9 and num<=9):\n",
    "     print('it is a digit')\n",
    "else:\n",
    "     print('it is a number')\n",
    "res='digit' if(num>=-9 and num<=9) else 'number'\n",
    "print(res)\n"
   ]
  },
  {
   "cell_type": "code",
   "execution_count": 6,
   "id": "c8df7310-f92a-4ab7-b0d5-524d4100776a",
   "metadata": {},
   "outputs": [
    {
     "name": "stdin",
     "output_type": "stream",
     "text": [
      "enter the number: 988\n"
     ]
    },
    {
     "name": "stdout",
     "output_type": "stream",
     "text": [
      "it is not a two digit number\n"
     ]
    }
   ],
   "source": [
    "num=int(input('enter the number:'))\n",
    "if (num>=10 and num<=99):\n",
    "    print('it is a two digit number')\n",
    "else:\n",
    "    print('it is not a two digit number')\n",
    "    "
   ]
  },
  {
   "cell_type": "code",
   "execution_count": 2,
   "id": "14e4a2ab-a293-43bf-be5b-8bed1f8a1f43",
   "metadata": {},
   "outputs": [
    {
     "name": "stdin",
     "output_type": "stream",
     "text": [
      "enter the number: 799\n"
     ]
    },
    {
     "name": "stdout",
     "output_type": "stream",
     "text": [
      "it is a three digit number\n",
      "three Digit\n"
     ]
    }
   ],
   "source": [
    "num=int(input('enter the number:'))\n",
    "if (num>=100 and num<=999):\n",
    "    print('it is a three digit number')\n",
    "else:\n",
    "    print('it is not a three digit number')\n",
    "res='three Digit' if(num>=100 and num<=999) else'not three digit'\n",
    "print(res)\n",
    "    "
   ]
  },
  {
   "cell_type": "code",
   "execution_count": 7,
   "id": "fa616ace-a228-4e1d-95f2-474a90a3a14e",
   "metadata": {},
   "outputs": [
    {
     "name": "stdin",
     "output_type": "stream",
     "text": [
      "enter the  first number: 55\n",
      "enter the second number: 66\n"
     ]
    },
    {
     "name": "stdout",
     "output_type": "stream",
     "text": [
      "num2 is larger\n"
     ]
    }
   ],
   "source": [
    "num1=int(input('enter the  first number:'))\n",
    "num2=int(input('enter the second number:'))\n",
    "if (num1>num2):\n",
    "    print('num1 is larger')\n",
    "else:\n",
    "    print('num2 is larger')"
   ]
  },
  {
   "cell_type": "code",
   "execution_count": 8,
   "id": "16d70ed4-4993-456f-baf5-f8a4815bd80b",
   "metadata": {},
   "outputs": [
    {
     "name": "stdin",
     "output_type": "stream",
     "text": [
      "enter the  first number: 55\n",
      "enter the second number: 66\n",
      "enter the third number: 77\n"
     ]
    },
    {
     "name": "stdout",
     "output_type": "stream",
     "text": [
      "num3 is larger\n"
     ]
    }
   ],
   "source": [
    "num1=int(input('enter the  first number:'))\n",
    "num2=int(input('enter the second number:'))\n",
    "num3=int(input('enter the third number:'))\n",
    "if (num1>num2 and num1>num3):\n",
    "    print('num1 is larger')\n",
    "elif(num2>num1 and num2>num3):\n",
    "    print('num2 is larger')\n",
    "else:\n",
    "    print('num3 is larger')\n",
    "    "
   ]
  },
  {
   "cell_type": "code",
   "execution_count": 9,
   "id": "180dde46-e886-40d9-ad12-96ed23e95701",
   "metadata": {},
   "outputs": [
    {
     "name": "stdin",
     "output_type": "stream",
     "text": [
      "enter the  first number: 33\n",
      "enter the second number: 44\n",
      "enter the third number: 55\n"
     ]
    },
    {
     "name": "stdout",
     "output_type": "stream",
     "text": [
      "num1 is smaller\n"
     ]
    }
   ],
   "source": [
    "num1=int(input('enter the  first number:'))\n",
    "num2=int(input('enter the second number:'))\n",
    "num3=int(input('enter the third number:'))\n",
    "if (num1<num2 and num1<num3):\n",
    "    print('num1 is smaller')\n",
    "elif(num2<num1 and num2<num3):\n",
    "    print('num2 is smaller')\n",
    "else:\n",
    "    print('num3 is smaller')\n",
    "    "
   ]
  },
  {
   "cell_type": "code",
   "execution_count": 11,
   "id": "62629d79-1d3c-4d25-a7e4-68eaffea3a35",
   "metadata": {},
   "outputs": [
    {
     "name": "stdin",
     "output_type": "stream",
     "text": [
      "enter the month number 11\n"
     ]
    },
    {
     "name": "stdout",
     "output_type": "stream",
     "text": [
      "it is a valid month\n"
     ]
    }
   ],
   "source": [
    "#valid month number\n",
    "mon=int(input('enter the month number'))\n",
    "if (mon>=1 and mon<=12):\n",
    "    print('it is a valid month')\n",
    "else:\n",
    "    print(' invalid month number')\n",
    "          "
   ]
  },
  {
   "cell_type": "code",
   "execution_count": 14,
   "id": "42e85c7f-4068-439d-a86e-34033dc0aafa",
   "metadata": {},
   "outputs": [
    {
     "name": "stdin",
     "output_type": "stream",
     "text": [
      "enter the month number 5\n"
     ]
    },
    {
     "name": "stdout",
     "output_type": "stream",
     "text": [
      "it contains 31 days \n"
     ]
    }
   ],
   "source": [
    "m=int(input('enter the month number'))\n",
    "if (m==1 or m==3 or m==5 or m==7 or m==8 or m==10 or m==12):\n",
    "    print('it contains 31 days ')\n",
    "elif(m==4 or m==6 or m==9 or m==11):\n",
    "    print('it contains 30 days')\n",
    "else:\n",
    "    print('it may be 28 or 29 days')"
   ]
  },
  {
   "cell_type": "code",
   "execution_count": 16,
   "id": "f0e2e832-ec2e-4467-8148-70d3ba10d65b",
   "metadata": {},
   "outputs": [
    {
     "name": "stdin",
     "output_type": "stream",
     "text": [
      "enter the number 7\n"
     ]
    },
    {
     "name": "stdout",
     "output_type": "stream",
     "text": [
      "it is a odd number\n"
     ]
    }
   ],
   "source": [
    "n=int(input('enter the number'))\n",
    "if n%2==0:\n",
    "    print('it is a even number')\n",
    "else:\n",
    "    print('it is a odd number')"
   ]
  },
  {
   "cell_type": "code",
   "execution_count": 19,
   "id": "1ccb4186-f20b-476c-b96d-468444f2b172",
   "metadata": {},
   "outputs": [
    {
     "name": "stdin",
     "output_type": "stream",
     "text": [
      "enter the number 22\n"
     ]
    },
    {
     "name": "stdout",
     "output_type": "stream",
     "text": [
      "not divisible by both 3 and 5 \n"
     ]
    }
   ],
   "source": [
    "n=int(input('enter the number'))\n",
    "if (n%3==0 and n%5==0):\n",
    "    print('it is divisible by 3 and 5')\n",
    "elif(n%3==0):\n",
    "    print('it is divisible with 3')\n",
    "elif(n%5==0):\n",
    "    print('it is divisible with 5')\n",
    "else:\n",
    "    print('not divisible by both 3 and 5 ')"
   ]
  },
  {
   "cell_type": "code",
   "execution_count": 3,
   "id": "ee5a9270-0096-42bc-b1c6-d75b45807386",
   "metadata": {},
   "outputs": [
    {
     "name": "stdin",
     "output_type": "stream",
     "text": [
      "enter the amount 2568\n"
     ]
    },
    {
     "name": "stdout",
     "output_type": "stream",
     "text": [
      "500------------>5\n",
      "200------------>0\n",
      "100------------>0\n",
      "50------------>1\n",
      "20------------>0\n",
      "10------------>1\n",
      "5------------>1\n",
      "2------------>1\n",
      "1------------>1\n"
     ]
    }
   ],
   "source": [
    "n=int(input('enter the amount'))\n",
    "print(f\"500------------>{n//500}\")\n",
    "n=n%500\n",
    "print(f\"200------------>{n//200}\")\n",
    "n=n%200\n",
    "print(f\"100------------>{n//100}\")\n",
    "n=n%100\n",
    "print(f\"50------------>{n//50}\")\n",
    "n=n%50\n",
    "print(f\"20------------>{n//20}\")\n",
    "n=n%20\n",
    "print(f\"10------------>{n//10}\")\n",
    "n=n%10\n",
    "print(f\"5------------>{n//5}\")\n",
    "n=n%5\n",
    "print(f\"2------------>{n//2}\")\n",
    "n=n%2\n",
    "print(f\"1------------>{n//1}\")\n",
    "n=n%1"
   ]
  },
  {
   "cell_type": "code",
   "execution_count": 4,
   "id": "0cee8b8e-6838-4bb9-9944-e63257cf5c86",
   "metadata": {},
   "outputs": [
    {
     "name": "stdin",
     "output_type": "stream",
     "text": [
      "enter the number 5\n"
     ]
    },
    {
     "name": "stdout",
     "output_type": "stream",
     "text": [
      "odd\n"
     ]
    }
   ],
   "source": [
    "n=int(input('enter the number'))\n",
    "if (n%2!=0 ):\n",
    "    print('odd')\n",
    "    "
   ]
  },
  {
   "cell_type": "code",
   "execution_count": null,
   "id": "112fc5c4-e491-4f2f-869d-001c50a2121d",
   "metadata": {},
   "outputs": [],
   "source": []
  }
 ],
 "metadata": {
  "kernelspec": {
   "display_name": "Python 3 (ipykernel)",
   "language": "python",
   "name": "python3"
  },
  "language_info": {
   "codemirror_mode": {
    "name": "ipython",
    "version": 3
   },
   "file_extension": ".py",
   "mimetype": "text/x-python",
   "name": "python",
   "nbconvert_exporter": "python",
   "pygments_lexer": "ipython3",
   "version": "3.13.5"
  }
 },
 "nbformat": 4,
 "nbformat_minor": 5
}
